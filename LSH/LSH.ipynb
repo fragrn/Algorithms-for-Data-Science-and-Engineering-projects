{
 "cells": [
  {
   "cell_type": "code",
   "execution_count": 34,
   "metadata": {},
   "outputs": [],
   "source": [
    "import numpy as np\n",
    "import csv\n",
    "import pandas as pd\n",
    "import random\n",
    "from scipy.sparse import *\n",
    "from sklearn.utils import shuffle \n",
    "import time"
   ]
  },
  {
   "cell_type": "code",
   "execution_count": 35,
   "metadata": {},
   "outputs": [],
   "source": [
    "NUM=18771  #NUM为节点个数"
   ]
  },
  {
   "cell_type": "code",
   "execution_count": 36,
   "metadata": {},
   "outputs": [],
   "source": [
    "data = pd.read_table('ca-AstroPh.txt', delimiter=' ')\n",
    "data.columns = ['vertex','neighbour']"
   ]
  },
  {
   "cell_type": "code",
   "execution_count": 37,
   "metadata": {},
   "outputs": [
    {
     "data": {
      "text/html": [
       "<div>\n",
       "<style scoped>\n",
       "    .dataframe tbody tr th:only-of-type {\n",
       "        vertical-align: middle;\n",
       "    }\n",
       "\n",
       "    .dataframe tbody tr th {\n",
       "        vertical-align: top;\n",
       "    }\n",
       "\n",
       "    .dataframe thead th {\n",
       "        text-align: right;\n",
       "    }\n",
       "</style>\n",
       "<table border=\"1\" class=\"dataframe\">\n",
       "  <thead>\n",
       "    <tr style=\"text-align: right;\">\n",
       "      <th></th>\n",
       "      <th>vertex</th>\n",
       "      <th>neighbour</th>\n",
       "    </tr>\n",
       "  </thead>\n",
       "  <tbody>\n",
       "    <tr>\n",
       "      <th>0</th>\n",
       "      <td>1</td>\n",
       "      <td>2</td>\n",
       "    </tr>\n",
       "    <tr>\n",
       "      <th>1</th>\n",
       "      <td>1</td>\n",
       "      <td>3</td>\n",
       "    </tr>\n",
       "    <tr>\n",
       "      <th>2</th>\n",
       "      <td>1</td>\n",
       "      <td>4</td>\n",
       "    </tr>\n",
       "    <tr>\n",
       "      <th>3</th>\n",
       "      <td>1</td>\n",
       "      <td>5</td>\n",
       "    </tr>\n",
       "    <tr>\n",
       "      <th>4</th>\n",
       "      <td>1</td>\n",
       "      <td>6</td>\n",
       "    </tr>\n",
       "    <tr>\n",
       "      <th>...</th>\n",
       "      <td>...</td>\n",
       "      <td>...</td>\n",
       "    </tr>\n",
       "    <tr>\n",
       "      <th>198045</th>\n",
       "      <td>18765</td>\n",
       "      <td>18766</td>\n",
       "    </tr>\n",
       "    <tr>\n",
       "      <th>198046</th>\n",
       "      <td>18765</td>\n",
       "      <td>18767</td>\n",
       "    </tr>\n",
       "    <tr>\n",
       "      <th>198047</th>\n",
       "      <td>18766</td>\n",
       "      <td>18767</td>\n",
       "    </tr>\n",
       "    <tr>\n",
       "      <th>198048</th>\n",
       "      <td>18768</td>\n",
       "      <td>18769</td>\n",
       "    </tr>\n",
       "    <tr>\n",
       "      <th>198049</th>\n",
       "      <td>18770</td>\n",
       "      <td>18771</td>\n",
       "    </tr>\n",
       "  </tbody>\n",
       "</table>\n",
       "<p>198050 rows × 2 columns</p>\n",
       "</div>"
      ],
      "text/plain": [
       "        vertex  neighbour\n",
       "0            1          2\n",
       "1            1          3\n",
       "2            1          4\n",
       "3            1          5\n",
       "4            1          6\n",
       "...        ...        ...\n",
       "198045   18765      18766\n",
       "198046   18765      18767\n",
       "198047   18766      18767\n",
       "198048   18768      18769\n",
       "198049   18770      18771\n",
       "\n",
       "[198050 rows x 2 columns]"
      ]
     },
     "execution_count": 37,
     "metadata": {},
     "output_type": "execute_result"
    }
   ],
   "source": [
    "data"
   ]
  },
  {
   "cell_type": "code",
   "execution_count": 38,
   "metadata": {},
   "outputs": [],
   "source": [
    "original_matrix = np.zeros((18771, 18771)) #注意第0列对应vertex 1"
   ]
  },
  {
   "cell_type": "code",
   "execution_count": 39,
   "metadata": {},
   "outputs": [],
   "source": [
    "for i in range(198050):\n",
    "    original_matrix[data.iloc[i]['vertex']-1][data.iloc[i]['neighbour']-1]+=1\n",
    "    original_matrix[data.iloc[i]['neighbour']-1][data.iloc[i]['vertex']-1]+=1"
   ]
  },
  {
   "cell_type": "code",
   "execution_count": 40,
   "metadata": {},
   "outputs": [
    {
     "data": {
      "text/plain": [
       "array([[0., 1., 1., ..., 0., 0., 0.],\n",
       "       [1., 0., 0., ..., 0., 0., 0.],\n",
       "       [1., 0., 0., ..., 0., 0., 0.],\n",
       "       ...,\n",
       "       [0., 0., 0., ..., 0., 0., 0.],\n",
       "       [0., 0., 0., ..., 0., 0., 1.],\n",
       "       [0., 0., 0., ..., 0., 1., 0.]])"
      ]
     },
     "execution_count": 40,
     "metadata": {},
     "output_type": "execute_result"
    }
   ],
   "source": [
    "original_matrix"
   ]
  },
  {
   "attachments": {},
   "cell_type": "markdown",
   "metadata": {},
   "source": [
    "original_matrix:OM是对称的,我们把它的一列看作一个对象"
   ]
  },
  {
   "attachments": {},
   "cell_type": "markdown",
   "metadata": {},
   "source": [
    "如果关心的是高效修改 - 使用 DOK、LIL 或 COO。这些通常用于构建矩阵。\n",
    "如果关心的是有效的访问和矩阵操作 - 使用 CSR 或 CSC"
   ]
  },
  {
   "cell_type": "code",
   "execution_count": 41,
   "metadata": {},
   "outputs": [],
   "source": [
    "\n",
    "csc= csc_matrix(original_matrix)\n",
    "index_pointer=csc.indptr\n",
    "indices=csc.indices"
   ]
  },
  {
   "cell_type": "code",
   "execution_count": 42,
   "metadata": {},
   "outputs": [],
   "source": [
    "\n",
    "def genRandomPermutationMatrix(index, numOfhash):  #generate a random\n",
    "    random_permutation_matrix = index\n",
    "    index_to_shuffle = random_permutation_matrix.copy()\n",
    "    new_index = [shuffle(index_to_shuffle, random_state=i + np.random.randint(low=1, high=2**30)) for i in range(numOfhash)]\n",
    "    random_permutation_matrix = np.c_[new_index].T\n",
    "    return random_permutation_matrix\n",
    "#numOfhash=num of the times of permutation,cause a hashfunction correspond to a permutation way\n",
    "def genSigMatrix(csc, numOfhash, index_pointer, indices):\n",
    "    index = np.arange(csc.shape[0]) #arange return a ndarray\n",
    "    random_permutation_matrix = genRandomPermutationMatrix(index, numOfhash) \n",
    "    col_num = csc.shape[1]\n",
    "    random_col = random_permutation_matrix.shape[1] #randomly pick a col\n",
    "    sig_matrix = np.zeros((random_col, col_num))\n",
    "\n",
    "    for j in range(random_col):\n",
    "        for i in range(col_num):\n",
    "            sig_matrix[j][i] = min(random_permutation_matrix[:, j][indices[index_pointer[i]:index_pointer[i+1]]])\n",
    "\n",
    "    return sig_matrix\n"
   ]
  },
  {
   "cell_type": "code",
   "execution_count": 43,
   "metadata": {},
   "outputs": [],
   "source": [
    "import hashlib\n",
    "\n",
    "\n",
    "def LSH(sig_matrix, r, b):\n",
    "    rownum = sig_matrix.shape[0]\n",
    "    colnum = sig_matrix.shape[1]\n",
    "    begin , end = 0, r\n",
    "    count = 0\n",
    "\n",
    "    index = {}\n",
    "    buckets={}\n",
    "    while end <= rownum:\n",
    "        count += 1\n",
    "\n",
    "        for col in range(colnum):\n",
    "            hash_obj = hashlib.md5()\n",
    "            band = sig_matrix[begin: end, col].tobytes() + np.array([count]).tobytes()\n",
    "            hash_obj.update(band)\n",
    "            tag = hash_obj.hexdigest()\n",
    "            if col not in index:\n",
    "                index[col] = set()\n",
    "                index[col].add(tag)\n",
    "            else:\n",
    "                index[col].add(tag)\n",
    "\n",
    "            if tag in buckets:\n",
    "                buckets[tag].add(col)\n",
    "            else:\n",
    "                buckets[tag] = set()\n",
    "                buckets[tag].add(col)\n",
    "        begin += r\n",
    "        end += r\n",
    "\n",
    "    return buckets, index"
   ]
  },
  {
   "cell_type": "code",
   "execution_count": 44,
   "metadata": {},
   "outputs": [],
   "source": [
    "def jaccard(csc,col1,col2):\n",
    "    indptr = csc.indptr\n",
    "    indices = csc.indices\n",
    "    a=set()\n",
    "    b=set()\n",
    "    for i in indices[indptr[col1]:indptr[col1+1]]:\n",
    "        a.add(i)\n",
    "    for j in indices[indptr[col2]:indptr[col2+1]]:\n",
    "        b.add(j)\n",
    "    return len(set(a).intersection(set(b))) / len(set(a).union(set(b)))"
   ]
  },
  {
   "cell_type": "code",
   "execution_count": 45,
   "metadata": {},
   "outputs": [],
   "source": [
    "from collections import Counter #用于构造一个拿来排序的集合\n",
    "def searchsimilar(csc,index,hashBucks,query):\n",
    "    result=set()  #返回跟query在一个桶里的对象(用set保证了不重复)\n",
    "    for tag in index[query]:\n",
    "        if query in hashBucks[tag]:\n",
    "            for i in hashBucks[tag]:\n",
    "                result.add(i)\n",
    "    result.remove(query) #去除查询对象自己\n",
    "    \n",
    "    jaccard_dict={}\n",
    "    for i in result:\n",
    "        jaccard_dict[i]=jaccard(csc,query,i)\n",
    "    sorted_list=sorted(jaccard_dict.items(),key=lambda x:-x[1])\n",
    "    result.clear()\n",
    "    count=0\n",
    "    while(count<len(sorted_list)):\n",
    "        if(count==10):\n",
    "            break\n",
    "        result.add(sorted_list[count][0])\n",
    "        count+=1\n",
    "    return result"
   ]
  },
  {
   "cell_type": "code",
   "execution_count": 129,
   "metadata": {},
   "outputs": [
    {
     "name": "stdout",
     "output_type": "stream",
     "text": [
      "genSigMatrix用时：8.017287254333496\n"
     ]
    }
   ],
   "source": [
    "b,r=40,3\n",
    "n=b*r\n",
    "time_start=time.time()\n",
    "sig_matrix=genSigMatrix(csc,n,index_pointer,indices)\n",
    "time_end=time.time() \n",
    "time_c= time_end - time_start   #运行所花时间\n",
    "print(\"genSigMatrix用时：\",end='')\n",
    "print(time_c)"
   ]
  },
  {
   "cell_type": "code",
   "execution_count": 140,
   "metadata": {},
   "outputs": [
    {
     "name": "stdout",
     "output_type": "stream",
     "text": [
      "genhashBuckets用时：1.1480531692504883\n"
     ]
    }
   ],
   "source": [
    "time_start=time.time()\n",
    "hashBucks,index=LSH(sig_matrix,r,b)\n",
    "time_end=time.time() \n",
    "time_c= time_end - time_start   #运行所花时间\n",
    "print(\"genhashBuckets用时：\",end='')\n",
    "print(time_c)"
   ]
  },
  {
   "cell_type": "code",
   "execution_count": 48,
   "metadata": {},
   "outputs": [],
   "source": [
    "# #举个例子，用querycol=132来查询\n",
    "# querycol=132\n",
    "# similarset=searchsimilar(csc,index,hashBucks,querycol)"
   ]
  },
  {
   "cell_type": "code",
   "execution_count": 104,
   "metadata": {},
   "outputs": [],
   "source": [
    "def precision(csc,querycol,similarset,k):\n",
    "    vertexdict={}\n",
    "    for i in range(NUM):\n",
    "        if(i==querycol):\n",
    "            continue\n",
    "        vertexdict[i]=jaccard(csc,querycol,i)\n",
    "    sorted_list=sorted(vertexdict.items(),key=lambda x:-x[1])\n",
    "    top10=set()\n",
    "    topk=set()\n",
    "    count=1\n",
    "    for item in sorted_list:\n",
    "        top10.add(item[0])\n",
    "        if count<=k:\n",
    "            topk.add(item[0])\n",
    "        if count==10:\n",
    "            break\n",
    "        count+=1\n",
    "    result=len(top10.intersection(similarset)) / 10\n",
    "    if k==0:\n",
    "        result2=0\n",
    "    else:\n",
    "        result2=len(topk.intersection(similarset))/k\n",
    "    return result,result2"
   ]
  },
  {
   "cell_type": "code",
   "execution_count": 50,
   "metadata": {},
   "outputs": [],
   "source": [
    "# result=precision(csc,querycol,similarset)\n",
    "# print(similarset)\n",
    "# print(result)"
   ]
  },
  {
   "cell_type": "code",
   "execution_count": 142,
   "metadata": {},
   "outputs": [
    {
     "name": "stdout",
     "output_type": "stream",
     "text": [
      "查询节点个数：94\n",
      "average search time:0.0\n",
      "precison_top10: 0.15957446808510634\n",
      "precision_topk: 0.31959219858156024\n"
     ]
    }
   ],
   "source": [
    "#用系统抽样的方法抽取一些节点来求searchsimilar的平均用时，与平均precision\n",
    "\n",
    "#precision_top10=len(similarset & real_top10_set)/10\n",
    "#当找到的候选集similarset的大小k小于10时，\n",
    "#precision_topk=len(similarset & real_topk_set)/k # k=len(similarset)\n",
    "\n",
    "precision_top10,precision_topk=0,0\n",
    "query_list=np.arange(0,NUM,200)\n",
    "print(\"查询节点个数：\",end='')\n",
    "print(len(query_list))\n",
    "sum_search_time=0\n",
    "for query in query_list:\n",
    "    time_start=time.time()\n",
    "    similarset=searchsimilar(csc,index,hashBucks,query)\n",
    "    time_end=time.time()\n",
    "    sum_search_time+=time_end-time_start\n",
    "    k=len(similarset)\n",
    "    top10,topk=precision(csc,query,similarset,k)\n",
    "    precision_top10+=top10\n",
    "    precision_topk+=topk\n",
    "print(\"average search time:\",end='')\n",
    "print(sum_search_time/len(query_list))\n",
    "print(\"precison_top10:\",end=' ')\n",
    "print(precision_top10/len(query_list))\n",
    "print(\"precision_topk:\",end=' ')\n",
    "print(precision_topk/len(query_list))"
   ]
  }
 ],
 "metadata": {
  "kernelspec": {
   "display_name": "Python 3",
   "language": "python",
   "name": "python3"
  },
  "language_info": {
   "codemirror_mode": {
    "name": "ipython",
    "version": 3
   },
   "file_extension": ".py",
   "mimetype": "text/x-python",
   "name": "python",
   "nbconvert_exporter": "python",
   "pygments_lexer": "ipython3",
   "version": "3.10.0"
  },
  "orig_nbformat": 4
 },
 "nbformat": 4,
 "nbformat_minor": 2
}
